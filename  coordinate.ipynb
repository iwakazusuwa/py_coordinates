{
 "cells": [
  {
   "cell_type": "markdown",
   "id": "60570bf3-f8a0-4400-b96a-d6a659437ffc",
   "metadata": {},
   "source": [
    "# XY座標値　表示"
   ]
  },
  {
   "cell_type": "code",
   "execution_count": 1,
   "id": "e96aa700-22f9-4649-8e30-fa28cc3a087d",
   "metadata": {},
   "outputs": [
    {
     "name": "stdout",
     "output_type": "stream",
     "text": [
      "133 203\n",
      "208 160\n",
      "292 191\n",
      "323 295\n",
      "376 358\n",
      "301 430\n",
      "200 412\n",
      "134 308\n",
      "143 245\n"
     ]
    }
   ],
   "source": [
    "import cv2\n",
    "\n",
    "def onMouse(event, x, y, flags, param):\n",
    "    if event == cv2.EVENT_LBUTTONDOWN:\n",
    "        print(x, y)\n",
    "\n",
    "img = cv2.imread('aa.png')\n",
    "cv2.imshow('aa', img)\n",
    "cv2.setMouseCallback('aa', onMouse)\n",
    "cv2.waitKey(0)\n",
    "cv2.destroyAllWindows()\n"
   ]
  },
  {
   "cell_type": "code",
   "execution_count": null,
   "id": "0c94f380-af31-4dcf-80fe-afae655075f4",
   "metadata": {},
   "outputs": [],
   "source": []
  }
 ],
 "metadata": {
  "kernelspec": {
   "display_name": "Python 3 (ipykernel)",
   "language": "python",
   "name": "python3"
  },
  "language_info": {
   "codemirror_mode": {
    "name": "ipython",
    "version": 3
   },
   "file_extension": ".py",
   "mimetype": "text/x-python",
   "name": "python",
   "nbconvert_exporter": "python",
   "pygments_lexer": "ipython3",
   "version": "3.8.10"
  }
 },
 "nbformat": 4,
 "nbformat_minor": 5
}
